{
 "cells": [
  {
   "cell_type": "code",
   "execution_count": 1,
   "id": "c67fb53d-117f-4ecf-94e0-cb15e33d76ed",
   "metadata": {
    "tags": []
   },
   "outputs": [
    {
     "data": {
      "text/html": [
       "<div>\n",
       "<style scoped>\n",
       "    .dataframe tbody tr th:only-of-type {\n",
       "        vertical-align: middle;\n",
       "    }\n",
       "\n",
       "    .dataframe tbody tr th {\n",
       "        vertical-align: top;\n",
       "    }\n",
       "\n",
       "    .dataframe thead th {\n",
       "        text-align: right;\n",
       "    }\n",
       "</style>\n",
       "<table border=\"1\" class=\"dataframe\">\n",
       "  <thead>\n",
       "    <tr style=\"text-align: right;\">\n",
       "      <th></th>\n",
       "      <th>PassengerId</th>\n",
       "      <th>Name</th>\n",
       "      <th>PClass</th>\n",
       "      <th>Age</th>\n",
       "      <th>Sex</th>\n",
       "      <th>Survived</th>\n",
       "    </tr>\n",
       "  </thead>\n",
       "  <tbody>\n",
       "    <tr>\n",
       "      <th>0</th>\n",
       "      <td>1.0</td>\n",
       "      <td>Allen, Miss Elisabeth Walton</td>\n",
       "      <td>1st</td>\n",
       "      <td>29.0</td>\n",
       "      <td>female</td>\n",
       "      <td>1.0</td>\n",
       "    </tr>\n",
       "    <tr>\n",
       "      <th>6</th>\n",
       "      <td>7.0</td>\n",
       "      <td>Andrews, Miss Kornelia Theodosia</td>\n",
       "      <td>1st</td>\n",
       "      <td>63.0</td>\n",
       "      <td>female</td>\n",
       "      <td>1.0</td>\n",
       "    </tr>\n",
       "    <tr>\n",
       "      <th>12</th>\n",
       "      <td>13.0</td>\n",
       "      <td>Aubert, Mrs Leontine Pauline</td>\n",
       "      <td>1st</td>\n",
       "      <td>NaN</td>\n",
       "      <td>female</td>\n",
       "      <td>1.0</td>\n",
       "    </tr>\n",
       "    <tr>\n",
       "      <th>18</th>\n",
       "      <td>19.0</td>\n",
       "      <td>Beckwith, Mr Richard Leonard</td>\n",
       "      <td>1st</td>\n",
       "      <td>37.0</td>\n",
       "      <td>male</td>\n",
       "      <td>1.0</td>\n",
       "    </tr>\n",
       "    <tr>\n",
       "      <th>24</th>\n",
       "      <td>25.0</td>\n",
       "      <td>Bjornstrm-Steffansson, Mr Mauritz Hakan</td>\n",
       "      <td>1st</td>\n",
       "      <td>28.0</td>\n",
       "      <td>male</td>\n",
       "      <td>1.0</td>\n",
       "    </tr>\n",
       "    <tr>\n",
       "      <th>...</th>\n",
       "      <td>...</td>\n",
       "      <td>...</td>\n",
       "      <td>...</td>\n",
       "      <td>...</td>\n",
       "      <td>...</td>\n",
       "      <td>...</td>\n",
       "    </tr>\n",
       "    <tr>\n",
       "      <th>1278</th>\n",
       "      <td>1279.0</td>\n",
       "      <td>Zakarian, Mr Maprieder</td>\n",
       "      <td>3rd</td>\n",
       "      <td>26.0</td>\n",
       "      <td>male</td>\n",
       "      <td>0.0</td>\n",
       "    </tr>\n",
       "    <tr>\n",
       "      <th>1284</th>\n",
       "      <td>NaN</td>\n",
       "      <td>NaN</td>\n",
       "      <td>NaN</td>\n",
       "      <td>NaN</td>\n",
       "      <td>NaN</td>\n",
       "      <td>NaN</td>\n",
       "    </tr>\n",
       "    <tr>\n",
       "      <th>1290</th>\n",
       "      <td>NaN</td>\n",
       "      <td>NaN</td>\n",
       "      <td>NaN</td>\n",
       "      <td>NaN</td>\n",
       "      <td>NaN</td>\n",
       "      <td>NaN</td>\n",
       "    </tr>\n",
       "    <tr>\n",
       "      <th>1296</th>\n",
       "      <td>NaN</td>\n",
       "      <td>NaN</td>\n",
       "      <td>NaN</td>\n",
       "      <td>NaN</td>\n",
       "      <td>NaN</td>\n",
       "      <td>NaN</td>\n",
       "    </tr>\n",
       "    <tr>\n",
       "      <th>1302</th>\n",
       "      <td>NaN</td>\n",
       "      <td>NaN</td>\n",
       "      <td>NaN</td>\n",
       "      <td>NaN</td>\n",
       "      <td>NaN</td>\n",
       "      <td>NaN</td>\n",
       "    </tr>\n",
       "  </tbody>\n",
       "</table>\n",
       "<p>218 rows × 6 columns</p>\n",
       "</div>"
      ],
      "text/plain": [
       "      PassengerId                                     Name PClass   Age  \\\n",
       "0             1.0             Allen, Miss Elisabeth Walton    1st  29.0   \n",
       "6             7.0         Andrews, Miss Kornelia Theodosia    1st  63.0   \n",
       "12           13.0             Aubert, Mrs Leontine Pauline    1st   NaN   \n",
       "18           19.0             Beckwith, Mr Richard Leonard    1st  37.0   \n",
       "24           25.0  Bjornstrm-Steffansson, Mr Mauritz Hakan    1st  28.0   \n",
       "...           ...                                      ...    ...   ...   \n",
       "1278       1279.0                   Zakarian, Mr Maprieder    3rd  26.0   \n",
       "1284          NaN                                      NaN    NaN   NaN   \n",
       "1290          NaN                                      NaN    NaN   NaN   \n",
       "1296          NaN                                      NaN    NaN   NaN   \n",
       "1302          NaN                                      NaN    NaN   NaN   \n",
       "\n",
       "         Sex  Survived  \n",
       "0     female       1.0  \n",
       "6     female       1.0  \n",
       "12    female       1.0  \n",
       "18      male       1.0  \n",
       "24      male       1.0  \n",
       "...      ...       ...  \n",
       "1278    male       0.0  \n",
       "1284     NaN       NaN  \n",
       "1290     NaN       NaN  \n",
       "1296     NaN       NaN  \n",
       "1302     NaN       NaN  \n",
       "\n",
       "[218 rows x 6 columns]"
      ]
     },
     "execution_count": 1,
     "metadata": {},
     "output_type": "execute_result"
    }
   ],
   "source": [
    "import numpy as np\n",
    "import pandas as pd\n",
    "import matplotlib.pyplot as plt\n",
    "from sklearn.neighbors import KNeighborsClassifier\n",
    "from sklearn.model_selection import train_test_split\n",
    "from sklearn.compose import ColumnTransformer\n",
    "from sklearn.preprocessing import OneHotEncoder, StandardScaler\n",
    "from sklearn.pipeline import make_pipeline\n",
    "from sklearn.impute import SimpleImputer\n",
    "\n",
    "df = pd.read_csv('titanic.csv')\n",
    "df[::6]"
   ]
  },
  {
   "cell_type": "code",
   "execution_count": 2,
   "id": "49354681-bee0-4837-86a6-ed66053aeabf",
   "metadata": {},
   "outputs": [
    {
     "name": "stdout",
     "output_type": "stream",
     "text": [
      "1307\n"
     ]
    },
    {
     "data": {
      "text/plain": [
       "1282"
      ]
     },
     "execution_count": 2,
     "metadata": {},
     "output_type": "execute_result"
    }
   ],
   "source": [
    "print(len(df))\n",
    "    df_dropped = df.dropna(subset=['Survived'])\n",
    "len(df_dropped)"
   ]
  },
  {
   "cell_type": "code",
   "execution_count": 10,
   "id": "b34e00d1-09e5-4e52-9c68-c15338dbbc43",
   "metadata": {},
   "outputs": [
    {
     "data": {
      "text/plain": [
       "734"
      ]
     },
     "execution_count": 10,
     "metadata": {},
     "output_type": "execute_result"
    }
   ],
   "source": [
    "len(df.dropna())"
   ]
  },
  {
   "cell_type": "code",
   "execution_count": 3,
   "id": "1045782d-916f-4f68-8e35-d1d157ef423a",
   "metadata": {},
   "outputs": [
    {
     "data": {
      "text/html": [
       "<div>\n",
       "<style scoped>\n",
       "    .dataframe tbody tr th:only-of-type {\n",
       "        vertical-align: middle;\n",
       "    }\n",
       "\n",
       "    .dataframe tbody tr th {\n",
       "        vertical-align: top;\n",
       "    }\n",
       "\n",
       "    .dataframe thead th {\n",
       "        text-align: right;\n",
       "    }\n",
       "</style>\n",
       "<table border=\"1\" class=\"dataframe\">\n",
       "  <thead>\n",
       "    <tr style=\"text-align: right;\">\n",
       "      <th></th>\n",
       "      <th>PassengerId</th>\n",
       "      <th>Name</th>\n",
       "      <th>PClass</th>\n",
       "      <th>Age</th>\n",
       "      <th>Sex</th>\n",
       "      <th>Survived</th>\n",
       "    </tr>\n",
       "  </thead>\n",
       "  <tbody>\n",
       "    <tr>\n",
       "      <th>0</th>\n",
       "      <td>1.0</td>\n",
       "      <td>Allen, Miss Elisabeth Walton</td>\n",
       "      <td>1st</td>\n",
       "      <td>29.0</td>\n",
       "      <td>female</td>\n",
       "      <td>1.0</td>\n",
       "    </tr>\n",
       "    <tr>\n",
       "      <th>6</th>\n",
       "      <td>7.0</td>\n",
       "      <td>Andrews, Miss Kornelia Theodosia</td>\n",
       "      <td>1st</td>\n",
       "      <td>63.0</td>\n",
       "      <td>female</td>\n",
       "      <td>1.0</td>\n",
       "    </tr>\n",
       "    <tr>\n",
       "      <th>12</th>\n",
       "      <td>13.0</td>\n",
       "      <td>Aubert, Mrs Leontine Pauline</td>\n",
       "      <td>1st</td>\n",
       "      <td>NaN</td>\n",
       "      <td>female</td>\n",
       "      <td>1.0</td>\n",
       "    </tr>\n",
       "    <tr>\n",
       "      <th>18</th>\n",
       "      <td>19.0</td>\n",
       "      <td>Beckwith, Mr Richard Leonard</td>\n",
       "      <td>1st</td>\n",
       "      <td>37.0</td>\n",
       "      <td>male</td>\n",
       "      <td>1.0</td>\n",
       "    </tr>\n",
       "    <tr>\n",
       "      <th>24</th>\n",
       "      <td>25.0</td>\n",
       "      <td>Bjornstrm-Steffansson, Mr Mauritz Hakan</td>\n",
       "      <td>1st</td>\n",
       "      <td>28.0</td>\n",
       "      <td>male</td>\n",
       "      <td>1.0</td>\n",
       "    </tr>\n",
       "    <tr>\n",
       "      <th>...</th>\n",
       "      <td>...</td>\n",
       "      <td>...</td>\n",
       "      <td>...</td>\n",
       "      <td>...</td>\n",
       "      <td>...</td>\n",
       "      <td>...</td>\n",
       "    </tr>\n",
       "    <tr>\n",
       "      <th>1254</th>\n",
       "      <td>1255.0</td>\n",
       "      <td>Vartunian, Mr David</td>\n",
       "      <td>3rd</td>\n",
       "      <td>22.0</td>\n",
       "      <td>male</td>\n",
       "      <td>1.0</td>\n",
       "    </tr>\n",
       "    <tr>\n",
       "      <th>1260</th>\n",
       "      <td>1261.0</td>\n",
       "      <td>Ware, Mr Frederick</td>\n",
       "      <td>3rd</td>\n",
       "      <td>NaN</td>\n",
       "      <td>male</td>\n",
       "      <td>0.0</td>\n",
       "    </tr>\n",
       "    <tr>\n",
       "      <th>1266</th>\n",
       "      <td>1267.0</td>\n",
       "      <td>Widegren, Mr Charles Peter</td>\n",
       "      <td>3rd</td>\n",
       "      <td>51.0</td>\n",
       "      <td>male</td>\n",
       "      <td>0.0</td>\n",
       "    </tr>\n",
       "    <tr>\n",
       "      <th>1272</th>\n",
       "      <td>1273.0</td>\n",
       "      <td>Williams, Mr Leslie</td>\n",
       "      <td>3rd</td>\n",
       "      <td>28.0</td>\n",
       "      <td>male</td>\n",
       "      <td>0.0</td>\n",
       "    </tr>\n",
       "    <tr>\n",
       "      <th>1278</th>\n",
       "      <td>1279.0</td>\n",
       "      <td>Zakarian, Mr Maprieder</td>\n",
       "      <td>3rd</td>\n",
       "      <td>26.0</td>\n",
       "      <td>male</td>\n",
       "      <td>0.0</td>\n",
       "    </tr>\n",
       "  </tbody>\n",
       "</table>\n",
       "<p>214 rows × 6 columns</p>\n",
       "</div>"
      ],
      "text/plain": [
       "      PassengerId                                     Name PClass   Age  \\\n",
       "0             1.0             Allen, Miss Elisabeth Walton    1st  29.0   \n",
       "6             7.0         Andrews, Miss Kornelia Theodosia    1st  63.0   \n",
       "12           13.0             Aubert, Mrs Leontine Pauline    1st   NaN   \n",
       "18           19.0             Beckwith, Mr Richard Leonard    1st  37.0   \n",
       "24           25.0  Bjornstrm-Steffansson, Mr Mauritz Hakan    1st  28.0   \n",
       "...           ...                                      ...    ...   ...   \n",
       "1254       1255.0                      Vartunian, Mr David    3rd  22.0   \n",
       "1260       1261.0                       Ware, Mr Frederick    3rd   NaN   \n",
       "1266       1267.0               Widegren, Mr Charles Peter    3rd  51.0   \n",
       "1272       1273.0                      Williams, Mr Leslie    3rd  28.0   \n",
       "1278       1279.0                   Zakarian, Mr Maprieder    3rd  26.0   \n",
       "\n",
       "         Sex  Survived  \n",
       "0     female       1.0  \n",
       "6     female       1.0  \n",
       "12    female       1.0  \n",
       "18      male       1.0  \n",
       "24      male       1.0  \n",
       "...      ...       ...  \n",
       "1254    male       1.0  \n",
       "1260    male       0.0  \n",
       "1266    male       0.0  \n",
       "1272    male       0.0  \n",
       "1278    male       0.0  \n",
       "\n",
       "[214 rows x 6 columns]"
      ]
     },
     "execution_count": 3,
     "metadata": {},
     "output_type": "execute_result"
    }
   ],
   "source": [
    "df_dropped[::6]"
   ]
  },
  {
   "cell_type": "code",
   "execution_count": 16,
   "id": "58e7df24-0706-4eba-856c-4fb13b4ed898",
   "metadata": {},
   "outputs": [],
   "source": [
    "features = ['PClass', 'Age', 'Sex']\n",
    "X = df_dropped[features]\n",
    "y = df_dropped['Survived']"
   ]
  },
  {
   "cell_type": "code",
   "execution_count": 25,
   "id": "f7fd3c9e-36e0-4d2f-8543-e5613674ad64",
   "metadata": {},
   "outputs": [],
   "source": [
    "numeric_features = ['Age']\n",
    "numeric_transformer = make_pipeline(SimpleImputer(strategy=\"median\"), StandardScaler())\n",
    "categorical_features = ['PClass', 'Sex']\n",
    "\n",
    "preprocessor = ColumnTransformer(\n",
    "    [\n",
    "        (\"num\", numeric_transformer, numeric_features),\n",
    "        (\n",
    "            \"cat\",\n",
    "            OneHotEncoder(handle_unknown=\"ignore\"),\n",
    "            categorical_features,\n",
    "        ),\n",
    "    ],\n",
    "    verbose_feature_names_out=False,\n",
    ")"
   ]
  },
  {
   "cell_type": "code",
   "execution_count": 26,
   "id": "656ee28b-bc76-4431-a6da-0af7ef21db50",
   "metadata": {},
   "outputs": [
    {
     "name": "stdout",
     "output_type": "stream",
     "text": [
      "[0.8528428093645485, 0.855072463768116, 0.8573021181716833, 0.8461538461538461, 0.8483835005574136, 0.842809364548495, 0.8450390189520625, 0.8461538461538461, 0.8372352285395763, 0.8383500557413601, 0.8405797101449275, 0.8383500557413601, 0.8394648829431438, 0.830546265328874, 0.8361204013377926, 0.8316610925306578, 0.830546265328874, 0.830546265328874, 0.8338907469342252, 0.8316610925306578, 0.8361204013377926, 0.8294314381270903, 0.830546265328874, 0.8338907469342252, 0.8294314381270903, 0.8294314381270903, 0.8283166109253066, 0.8316610925306578, 0.8327759197324415, 0.835005574136009, 0.8327759197324415, 0.8361204013377926, 0.8361204013377926, 0.8316610925306578, 0.8327759197324415, 0.8316610925306578, 0.8294314381270903, 0.8283166109253066, 0.8249721293199554, 0.8283166109253066, 0.8216276477146043, 0.822742474916388, 0.8249721293199554, 0.822742474916388, 0.822742474916388, 0.8216276477146043, 0.822742474916388, 0.822742474916388, 0.822742474916388, 0.8205128205128205, 0.8205128205128205, 0.8216276477146043, 0.822742474916388, 0.8205128205128205, 0.8182831661092531, 0.8182831661092531, 0.8193979933110368, 0.8205128205128205, 0.8216276477146043, 0.8205128205128205, 0.8205128205128205, 0.8216276477146043, 0.8205128205128205, 0.822742474916388, 0.8193979933110368, 0.8205128205128205, 0.8205128205128205, 0.8205128205128205, 0.8205128205128205, 0.8193979933110368, 0.8182831661092531, 0.8193979933110368, 0.8205128205128205, 0.8193979933110368, 0.8205128205128205, 0.8216276477146043, 0.8193979933110368, 0.8205128205128205, 0.8193979933110368, 0.8205128205128205, 0.8205128205128205, 0.8171683389074693, 0.8182831661092531, 0.8171683389074693, 0.8193979933110368, 0.8182831661092531, 0.8193979933110368, 0.8182831661092531, 0.8182831661092531, 0.8171683389074693, 0.8182831661092531, 0.8182831661092531, 0.8182831661092531, 0.8182831661092531, 0.8193979933110368, 0.8182831661092531, 0.8193979933110368, 0.8182831661092531, 0.8182831661092531, 0.8182831661092531, 0.8193979933110368, 0.8193979933110368, 0.8205128205128205, 0.8205128205128205, 0.8205128205128205, 0.8193979933110368, 0.8205128205128205, 0.8205128205128205, 0.8205128205128205, 0.8193979933110368, 0.8205128205128205, 0.8171683389074693, 0.8182831661092531, 0.8171683389074693, 0.8182831661092531, 0.8182831661092531, 0.8193979933110368, 0.8193979933110368, 0.8193979933110368, 0.8182831661092531, 0.8115942028985508, 0.8115942028985508, 0.8127090301003345, 0.8149386845039019, 0.8138238573021181, 0.8149386845039019, 0.8193979933110368, 0.8182831661092531, 0.8182831661092531, 0.810479375696767, 0.8138238573021181, 0.8093645484949833, 0.8093645484949833, 0.8093645484949833, 0.8093645484949833, 0.8071348940914158, 0.8071348940914158, 0.8071348940914158, 0.8071348940914158, 0.8071348940914158, 0.8071348940914158, 0.8082497212931996, 0.810479375696767, 0.810479375696767, 0.810479375696767, 0.810479375696767, 0.810479375696767, 0.8082497212931996, 0.8082497212931996, 0.8060200668896321, 0.8082497212931996, 0.8071348940914158, 0.8049052396878483, 0.8049052396878483, 0.8071348940914158, 0.8071348940914158, 0.8071348940914158, 0.7870680044593088, 0.802675585284281, 0.7848383500557413, 0.802675585284281, 0.7870680044593088, 0.7870680044593088, 0.7848383500557413, 0.7859531772575251, 0.7848383500557413, 0.7859531772575251, 0.7859531772575251, 0.782608695652174, 0.782608695652174, 0.7814938684503902, 0.7814938684503902, 0.7814938684503902, 0.7803790412486065, 0.7803790412486065, 0.7803790412486065, 0.778149386845039, 0.778149386845039, 0.778149386845039]\n",
      "[0.7922077922077922, 0.8025974025974026, 0.8077922077922078, 0.8233766233766234, 0.812987012987013, 0.812987012987013, 0.8155844155844156, 0.8155844155844156, 0.8103896103896104, 0.8077922077922078, 0.8155844155844156, 0.812987012987013, 0.8103896103896104, 0.8051948051948052, 0.7974025974025974, 0.8103896103896104, 0.8077922077922078, 0.8077922077922078, 0.8077922077922078, 0.812987012987013, 0.8155844155844156, 0.8051948051948052, 0.8025974025974026, 0.812987012987013, 0.812987012987013, 0.8077922077922078, 0.8077922077922078, 0.8051948051948052, 0.8103896103896104, 0.8077922077922078, 0.8077922077922078, 0.8077922077922078, 0.8103896103896104, 0.8051948051948052, 0.8051948051948052, 0.8051948051948052, 0.8051948051948052, 0.8, 0.7974025974025974, 0.8077922077922078, 0.8051948051948052, 0.8103896103896104, 0.8077922077922078, 0.8025974025974026, 0.8025974025974026, 0.8, 0.8025974025974026, 0.8025974025974026, 0.8025974025974026, 0.8025974025974026, 0.8, 0.8025974025974026, 0.8025974025974026, 0.8025974025974026, 0.7974025974025974, 0.7974025974025974, 0.7974025974025974, 0.8, 0.8, 0.8, 0.8, 0.8025974025974026, 0.8, 0.8025974025974026, 0.7974025974025974, 0.8, 0.8, 0.8, 0.8, 0.8, 0.7974025974025974, 0.8, 0.8, 0.8, 0.8, 0.8025974025974026, 0.8, 0.8025974025974026, 0.8025974025974026, 0.8, 0.8025974025974026, 0.7974025974025974, 0.7974025974025974, 0.8, 0.8, 0.8, 0.8, 0.8, 0.8, 0.8, 0.8, 0.8, 0.8, 0.8, 0.8, 0.8, 0.8, 0.8, 0.8, 0.8, 0.8, 0.8, 0.8, 0.8, 0.8, 0.8, 0.8, 0.8, 0.8, 0.8, 0.8, 0.8, 0.8, 0.8, 0.8, 0.8, 0.8, 0.8, 0.8, 0.8, 0.8, 0.8, 0.8, 0.8, 0.8, 0.7974025974025974, 0.7974025974025974, 0.7974025974025974, 0.7974025974025974, 0.7948051948051948, 0.7974025974025974, 0.7974025974025974, 0.7974025974025974, 0.7974025974025974, 0.7974025974025974, 0.7948051948051948, 0.7948051948051948, 0.7948051948051948, 0.7948051948051948, 0.7948051948051948, 0.7948051948051948, 0.7948051948051948, 0.7974025974025974, 0.7974025974025974, 0.7974025974025974, 0.7974025974025974, 0.7974025974025974, 0.7948051948051948, 0.7948051948051948, 0.7948051948051948, 0.7948051948051948, 0.7922077922077922, 0.7922077922077922, 0.7922077922077922, 0.7922077922077922, 0.7922077922077922, 0.7922077922077922, 0.7766233766233767, 0.7922077922077922, 0.7766233766233767, 0.7896103896103897, 0.7740259740259741, 0.7740259740259741, 0.7740259740259741, 0.7792207792207793, 0.7688311688311689, 0.7766233766233767, 0.7766233766233767, 0.7740259740259741, 0.7740259740259741, 0.7740259740259741, 0.7740259740259741, 0.7740259740259741, 0.7662337662337663, 0.7740259740259741, 0.7740259740259741, 0.7740259740259741, 0.7740259740259741, 0.7740259740259741]\n",
      "\n"
     ]
    },
    {
     "data": {
      "image/png": "[encoded data removed]",
      "text/plain": [
       "<Figure size 640x480 with 1 Axes>"
      ]
     },
     "metadata": {},
     "output_type": "display_data"
    }
   ],
   "source": [
    "from sklearn import neighbors \n",
    "import warnings\n",
    "# Suppress FutureWarnings\n",
    "warnings.filterwarnings(\"ignore\", category=FutureWarning)\n",
    "\n",
    "X_train, X_test, y_train, y_test = train_test_split(X, y, test_size=0.3, random_state=42)\n",
    "Ks = np.arange(1, round(0.2*len(X_train) + 1))\n",
    "accuracies_train=[]\n",
    "accuracies_test = []\n",
    "for k in Ks:\n",
    "    knn = neighbors.KNeighborsClassifier(n_neighbors=k)\n",
    "    model = make_pipeline(preprocessor, knn)\n",
    "    model.fit(X_train, y_train)\n",
    "    accuracy_train = model.score(X_train, y_train)\n",
    "    accuracies_train.append(accuracy_train)\n",
    "    accuracy_test = model.score(X_test, y_test)\n",
    "    accuracies_test.append(accuracy_test)\n",
    "\n",
    "print(accuracies_train)\n",
    "print(accuracies_test)\n",
    "print()\n",
    "plt.plot(Ks, accuracies_train, label = 'Train accuracies')\n",
    "plt.plot(Ks, accuracies_test, label = 'Test accuracies')\n",
    "plt.legend()\n",
    "plt.show()"
   ]
  },
  {
   "cell_type": "code",
   "execution_count": 27,
   "id": "5f719be5-2296-46e3-bda6-63c1c3cea301",
   "metadata": {},
   "outputs": [
    {
     "data": {
      "text/plain": [
       "Pipeline(steps=[('columntransformer',\n",
       "                 ColumnTransformer(transformers=[('num',\n",
       "                                                  Pipeline(steps=[('simpleimputer',\n",
       "                                                                   SimpleImputer(strategy='median')),\n",
       "                                                                  ('standardscaler',\n",
       "                                                                   StandardScaler())]),\n",
       "                                                  ['Age']),\n",
       "                                                 ('cat',\n",
       "                                                  OneHotEncoder(handle_unknown='ignore'),\n",
       "                                                  ['PClass', 'Sex'])],\n",
       "                                   verbose_feature_names_out=False)),\n",
       "                ('kneighborsclassifier', KNeighborsClassifier(n_neighbors=4))])"
      ]
     },
     "execution_count": 27,
     "metadata": {},
     "output_type": "execute_result"
    }
   ],
   "source": [
    "k = 4\n",
    "knn = KNeighborsClassifier(n_neighbors=k)\n",
    "model = make_pipeline(preprocessor, knn)\n",
    "model.fit(X_train, y_train)"
   ]
  },
  {
   "cell_type": "code",
   "execution_count": 28,
   "id": "95de43dd-acb1-44e4-8d13-d06b76c49488",
   "metadata": {},
   "outputs": [
    {
     "name": "stdout",
     "output_type": "stream",
     "text": [
      "0.8233766233766234\n"
     ]
    }
   ],
   "source": [
    "print(model.score(X_test, y_test))"
   ]
  },
  {
   "cell_type": "code",
   "execution_count": 9,
   "id": "7fa01aab-ddfd-48f8-bf98-9def2b2f5186",
   "metadata": {},
   "outputs": [
    {
     "data": {
      "text/plain": [
       "0.8233766233766234"
      ]
     },
     "execution_count": 9,
     "metadata": {},
     "output_type": "execute_result"
    }
   ],
   "source": [
    "from sklearn.metrics import accuracy_score\n",
    "y_pred = model.predict(X_test)\n",
    "accuracy = accuracy_score(y_test, y_pred)\n",
    "accuracy"
   ]
  }
 ],
 "metadata": {
  "kernelspec": {
   "display_name": "Python 3 (ipykernel)",
   "language": "python",
   "name": "python3"
  },
  "language_info": {
   "codemirror_mode": {
    "name": "ipython",
    "version": 3
   },
   "file_extension": ".py",
   "mimetype": "text/x-python",
   "name": "python",
   "nbconvert_exporter": "python",
   "pygments_lexer": "ipython3",
   "version": "3.9.13"
  }
 },
 "nbformat": 4,
 "nbformat_minor": 5
}

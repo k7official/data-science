{
 "cells": [
  {
   "cell_type": "code",
   "execution_count": 78,
   "id": "8a5a1cdd",
   "metadata": {},
   "outputs": [
    {
     "name": "stdout",
     "output_type": "stream",
     "text": [
      "65\n",
      "70\n",
      "85\n",
      "90\n",
      "100\n",
      "70\n",
      "70\n",
      "50\n",
      "20\n",
      "-1\n",
      "80\n",
      "90\n",
      "60\n",
      "30\n",
      "95\n",
      "60\n",
      "75\n",
      "20\n",
      "80\n",
      "-1\n",
      "[[ 65  70  85]\n",
      " [ 90 100  70]\n",
      " [ 70  50  20]]\n",
      "\n",
      "[[80 90 60]\n",
      " [30 95 60]\n",
      " [75 20 80]]\n",
      "\n",
      "[[82.5 80.  72.5]\n",
      " [70.  97.5 65. ]\n",
      " [82.5 -1.  -1. ]]\n"
     ]
    }
   ],
   "source": [
    "import numpy as np\n",
    "\n",
    "exam1scores = []\n",
    "exam2scores = []\n",
    "\n",
    "# take in scores\n",
    "score = int(input())\n",
    "while score != -1:\n",
    "    exam1scores.append(score)\n",
    "    score = int(input())\n",
    "\n",
    "score = int(input())\n",
    "while score != -1:\n",
    "    exam2scores.append(score)\n",
    "    score = int(input())\n",
    "\n",
    "num_students = len(exam1scores)\n",
    "\n",
    "# convert lists into numpy arrays and reshape in n x 3 array\n",
    "exam1scores = np.array(exam1scores).reshape((num_students//3,3))\n",
    "exam2scores = np.array(exam2scores).reshape((num_students//3,3))\n",
    "\n",
    "print(exam1scores)\n",
    "print()\n",
    "print(exam2scores)\n",
    "print()\n",
    "\n",
    "# each exam account for 50%\n",
    "results = (exam1scores + exam2scores)/2\n",
    "\n",
    "# group leader get extra 10 points\n",
    "for i in range(results.shape[0]):\n",
    "    results[i][0] += 10\n",
    "\n",
    "# total result format\n",
    "for i in range(results.shape[0]): # iterate over rows\n",
    "    for j in range(results.shape[1]): # iterate over columns\n",
    "        if results[i][j] > 100:\n",
    "            results[i][j] = 100\n",
    "        if results[i][j] < 60:\n",
    "            results[i][j] = -1\n",
    "\n",
    "print(results)"
   ]
  },
  {
   "cell_type": "code",
   "execution_count": null,
   "id": "0ccd4737",
   "metadata": {},
   "outputs": [],
   "source": []
  }
 ],
 "metadata": {
  "kernelspec": {
   "display_name": "Python 3 (ipykernel)",
   "language": "python",
   "name": "python3"
  },
  "language_info": {
   "codemirror_mode": {
    "name": "ipython",
    "version": 3
   },
   "file_extension": ".py",
   "mimetype": "text/x-python",
   "name": "python",
   "nbconvert_exporter": "python",
   "pygments_lexer": "ipython3",
   "version": "3.9.13"
  }
 },
 "nbformat": 4,
 "nbformat_minor": 5
}
